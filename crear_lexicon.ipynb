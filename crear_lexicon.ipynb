{
 "cells": [
  {
   "cell_type": "code",
   "execution_count": null,
   "metadata": {},
   "outputs": [],
   "source": [
    "import os\n",
    "import PyPDF2\n",
    "import re\n",
    "from nltk.tokenize import word_tokenize\n",
    "from nltk.corpus import stopwords"
   ]
  },
  {
   "cell_type": "code",
   "execution_count": null,
   "metadata": {},
   "outputs": [],
   "source": [
    "input_directory = \"Sources/\"\n",
    "\n",
    "def extract_text_from_pdf(pdf_file_path):\n",
    "    with open(pdf_file_path, 'rb') as file:\n",
    "        pdf_reader = PyPDF2.PdfReader(file)\n",
    "        text = \"\"\n",
    "        for page in pdf_reader.pages:\n",
    "            text += page.extract_text()\n",
    "    return text"
   ]
  },
  {
   "cell_type": "code",
   "execution_count": null,
   "metadata": {},
   "outputs": [],
   "source": [
    "def clean_text(text):\n",
    "    \n",
    "    cleaned_text = re.sub(r'[^a-zA-Z]', ' ', text).lower()\n",
    "\n",
    "    words = word_tokenize(cleaned_text)\n",
    "    stop_words = set(stopwords.words('spanish')) \n",
    "    filtered_words = [word for word in words if word not in stop_words]\n",
    "    return filtered_words"
   ]
  },
  {
   "cell_type": "code",
   "execution_count": null,
   "metadata": {},
   "outputs": [],
   "source": [
    "\n",
    "def create_lexicon(input_directory):\n",
    "    lexicon = set()\n",
    "    for pdf_number in range(1, 21): \n",
    "        pdf_file_path = os.path.join(input_directory, f\"{pdf_number}.pdf\")\n",
    "        text = extract_text_from_pdf(pdf_file_path)\n",
    "        words = clean_text(text)\n",
    "        lexicon.update(words)\n",
    "    return lexicon"
   ]
  },
  {
   "cell_type": "code",
   "execution_count": null,
   "metadata": {},
   "outputs": [
    {
     "name": "stdout",
     "output_type": "stream",
     "text": [
      "Léxico generado y guardado en lexicon.txt\n"
     ]
    }
   ],
   "source": [
    "if __name__ == \"__main__\":\n",
    "    lexicon = create_lexicon(input_directory)\n",
    "    with open(\"lexicon.txt\", \"w\", encoding=\"utf-8\") as file:\n",
    "        for word in lexicon:\n",
    "            file.write(f\"{word}\\n\")\n",
    "\n",
    "    print(\"Léxico generado y guardado en lexicon.txt\")\n"
   ]
  }
 ],
 "metadata": {
  "kernelspec": {
   "display_name": "Python 3",
   "language": "python",
   "name": "python3"
  },
  "language_info": {
   "codemirror_mode": {
    "name": "ipython",
    "version": 3
   },
   "file_extension": ".py",
   "mimetype": "text/x-python",
   "name": "python",
   "nbconvert_exporter": "python",
   "pygments_lexer": "ipython3",
   "version": "3.12.0"
  },
  "orig_nbformat": 4
 },
 "nbformat": 4,
 "nbformat_minor": 2
}
